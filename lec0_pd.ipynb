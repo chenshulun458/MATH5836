{
 "cells": [
  {
   "cell_type": "code",
   "execution_count": 5,
   "metadata": {},
   "outputs": [],
   "source": [
    "import pandas as pd\n",
    "import numpy as np\n",
    "\n",
    "# 创建一个简单的 DataFrame\n",
    "data = {\n",
    "    '姓名': ['张三', '李四', '王五'],\n",
    "    '年龄': [25, 30, 22],\n",
    "    '城市': ['北京', '上海', '广州']\n",
    "}\n",
    "\n",
    "df = pd.DataFrame(data)\n",
    "\n",
    "# 创建一个 Series\n",
    "series = pd.Series([1, 2, 3, 4, 5])\n",
    "\n",
    "# 创建一个日期范围\n",
    "date_range = pd.date_range(start='2023-01-01', end='2023-01-10')\n",
    "\n"
   ]
  },
  {
   "cell_type": "code",
   "execution_count": 6,
   "metadata": {},
   "outputs": [
    {
     "name": "stdout",
     "output_type": "stream",
     "text": [
      "使用 iloc 访问的元素: 25\n",
      "使用 iat 访问的元素: 25\n"
     ]
    }
   ],
   "source": [
    "# 使用 iloc 访问 DataFrame 中的元素\n",
    "# 访问第一行第二列的元素\n",
    "element_iloc = df.iloc[0, 1]\n",
    "print(f\"使用 iloc 访问的元素: {element_iloc}\")\n",
    "\n",
    "# 使用 iat 访问 DataFrame 中的元素\n",
    "# 访问第一行第二列的元素\n",
    "element_iat = df.iat[0, 1]\n",
    "print(f\"使用 iat 访问的元素: {element_iat}\")"
   ]
  }
 ],
 "metadata": {
  "kernelspec": {
   "display_name": ".venv",
   "language": "python",
   "name": "python3"
  },
  "language_info": {
   "codemirror_mode": {
    "name": "ipython",
    "version": 3
   },
   "file_extension": ".py",
   "mimetype": "text/x-python",
   "name": "python",
   "nbconvert_exporter": "python",
   "pygments_lexer": "ipython3",
   "version": "3.10.9"
  }
 },
 "nbformat": 4,
 "nbformat_minor": 2
}
