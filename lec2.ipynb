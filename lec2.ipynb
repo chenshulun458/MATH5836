{
 "cells": [
  {
   "cell_type": "markdown",
   "metadata": {},
   "source": [
    "# Logistic Regression and Evaluation\n",
    "\n",
    "- develop and evaluate machine learning models using  logistic regression models with gradient descent learning algorithms\n",
    "- evaluate the performance of the models using evaluation metrics"
   ]
  },
  {
   "cell_type": "markdown",
   "metadata": {},
   "source": [
    " - Sigmoid or logistic function (Activation function) (perceptron)\n",
    "$$\n",
    "S(x) = \\frac{1}{1 + e^{-x}} = \\frac{e^x}{e^x + 1}\n",
    "$$\n",
    "\n",
    "- derivative of the sigmoid function:\n",
    "$$\n",
    "\\frac{d}{dx} S(x) = \\frac{d}{dx} \\left[ \\frac{1}{1 + e^{-x}} \\right]\n",
    "$$\n",
    "$$\n",
    "= \\frac{d}{dx} \\left( 1 + e^{-x} \\right)^{-1}\n",
    "$$\n",
    "$$\n",
    "= -(1 + e^{-x})^{-2} \\cdot (-e^{-x})\n",
    "$$\n",
    "$$\n",
    "= \\frac{e^{-x}}{(1 + e^{-x})^2}\n",
    "$$\n",
    "$$\n",
    "= \\frac{1}{1 + e^{-x}} \\cdot \\frac{e^{-x}}{1 + e^{-x}}\n",
    "$$\n",
    "$$\n",
    "= \\frac{1}{1 + e^{-x}} \\cdot \\left( 1 - \\frac{1}{1 + e^{-x}} \\right)\n",
    "$$\n",
    "$$\n",
    "= S(x) \\cdot (1 - S(x))\n",
    "$$"
   ]
  },
  {
   "cell_type": "markdown",
   "metadata": {},
   "source": []
  },
  {
   "cell_type": "markdown",
   "metadata": {},
   "source": [
    "## Types of machine learning methods\n",
    "**Learning Problems**\n",
    "\n",
    "- Supervised Learning: Logistic and linear regression, Backpropagation neural networks, Bayesian neural networks (Week 1 - 5)\n",
    "\n",
    "- Unsupervised Learning : Clustering, PCA, Autoencoders\n",
    "\n",
    "- Reinforcement Learning: Used in computer game applications and robotics where data (action) is generated during the learning process. \n",
    "\n",
    "**Learning Techniques**\n",
    "\n",
    "- Ensemble Learning: Covered in the course where multiple models are used. Random forest, Adaboost  and XGboost are examples. \n",
    "\n",
    "- Multi-Task Learning: Related tasks that help each other in learning; eg. driving a tractor and driver a car has some overlap in foundational knowledge.\n",
    "\n",
    "- Transfer Learning\n",
    "\n",
    "- Active Learning\n",
    "\n",
    "- Online Learning\n",
    "\n",
    "**Hybrid Learning Problems**\n",
    "\n",
    "- Semi-Supervised Learning: Combination of supervised and unsupervised learning. \n",
    "\n",
    "- Self-Supervised Learning\n",
    "\n",
    "- Multi-Instance Learning\n",
    "\n",
    "**Statistical Inference**\n",
    "\n",
    "- Inductive Learning\n",
    "\n",
    "- Deductive Inference\n",
    "\n",
    "- Transductive Learning"
   ]
  }
 ],
 "metadata": {
  "language_info": {
   "name": "python"
  }
 },
 "nbformat": 4,
 "nbformat_minor": 2
}
