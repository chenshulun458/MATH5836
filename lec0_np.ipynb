{
 "cells": [
  {
   "cell_type": "code",
   "execution_count": null,
   "metadata": {},
   "outputs": [],
   "source": [
    "import numpy as np\n",
    "\n",
    "# 创建一个指定值的数组\n",
    "full_array = np.full((3, 3), 7)\n",
    "print(\"指定值的数组:\\n\", full_array)\n",
    "\n",
    "# 创建一个等差数组\n",
    "arange_array = np.arange(10)\n",
    "print(\"等差数组:\", arange_array)\n",
    "\n",
    "# 创建一个一维数组\n",
    "array_1d = np.array([1, 2, 3, 4, 5])\n",
    "print(\"一维数组:\", array_1d)\n",
    "\n",
    "# 创建一个二维数组\n",
    "array_2d = np.array([[1, 2, 3], [4, 5, 6]])\n",
    "print(\"二维数组:\\n\", array_2d)\n",
    "\n",
    "# 创建一个全零数组\n",
    "zeros_array = np.zeros((3, 3))\n",
    "print(\"全零数组:\\n\", zeros_array)\n",
    "\n",
    "# 创建一个全一数组\n",
    "ones_array = np.ones((2, 4))\n",
    "print(\"全一数组:\\n\", ones_array)\n",
    "\n",
    "# 创建一个单位矩阵\n",
    "identity_matrix = np.eye(3)\n",
    "print(\"单位矩阵:\\n\", identity_matrix)\n",
    "\n",
    "# 创建一个随机数组\n",
    "random_array = np.random.random((2, 2))\n",
    "print(\"随机数组:\\n\", random_array)\n",
    "\n",
    "# 数组的形状\n",
    "print(\"二维数组的形状:\", array_2d.shape)\n",
    "\n",
    "# 数组的重塑\n",
    "reshaped_array = array_1d.reshape((5, 1))\n",
    "print(\"重塑后的数组:\\n\", reshaped_array)\n",
    "\n",
    "# 数组的切片\n",
    "sliced_array = array_2d[:, 1]\n",
    "print(\"数组的切片:\", sliced_array)"
   ]
  },
  {
   "cell_type": "code",
   "execution_count": null,
   "metadata": {
    "vscode": {
     "languageId": "ini"
    }
   },
   "outputs": [],
   "source": [
    "# 点积运算\n",
    "dot_product = np.dot(array_1d, array_1d)\n",
    "print(\"一维数组的点积:\", dot_product)\n",
    "\n",
    "# 元素级别的加法\n",
    "elementwise_add = array_1d + array_1d\n",
    "print(\"一维数组的元素级别加法:\", elementwise_add)\n",
    "\n",
    "# 元素级别的减法\n",
    "elementwise_subtract = array_1d - array_1d\n",
    "print(\"一维数组的元素级别减法:\", elementwise_subtract)\n",
    "\n",
    "# 元素级别的乘法\n",
    "elementwise_multiply = array_1d * array_1d\n",
    "print(\"一维数组的元素级别乘法:\", elementwise_multiply)\n",
    "\n",
    "# 元素级别的除法\n",
    "elementwise_divide = array_1d / array_1d\n",
    "print(\"一维数组的元素级别除法:\", elementwise_divide)"
   ]
  },
  {
   "cell_type": "code",
   "execution_count": null,
   "metadata": {
    "vscode": {
     "languageId": "ini"
    }
   },
   "outputs": [],
   "source": [
    "# 计算一维数组的总和\n",
    "sum_1d = array_1d.sum(axis=0)\n",
    "print(\"一维数组的总和:\", sum_1d)\n",
    "\n",
    "# 计算二维数组的总和\n",
    "sum_2d = array_2d.sum()\n",
    "print(\"二维数组的总和:\", sum_2d)\n",
    "\n",
    "# 转置二维数组\n",
    "transposed_2d = array_2d.T\n",
    "print(\"转置后的二维数组:\\n\", transposed_2d)\n",
    "\n",
    "# 创建一个与现有数组形状相同的空数组\n",
    "empty_like_2d = np.empty_like(array_2d)\n",
    "print(\"与二维数组形状相同的空数组:\\n\", empty_like_2d)\n",
    "\n",
    "# example\n",
    "x = np.array([[1,2,3], [4,5,6], [7,8,9], [10, 11, 12]])\n",
    "v = np.array([1, 0, 1])\n",
    "y = np.empty_like(x)   # Create an empty matrix with the same shape as x\n",
    "\n",
    "# Add the vector v to each row of the matrix x with an explicit loop\n",
    "for i in range(4):\n",
    "    y[i, :] = x[i, :] + v"
   ]
  },
  {
   "cell_type": "code",
   "execution_count": null,
   "metadata": {
    "vscode": {
     "languageId": "ini"
    }
   },
   "outputs": [],
   "source": [
    "# 垂直堆叠数组\n",
    "vstack_array = np.vstack((array_1d, array_1d))\n",
    "print(\"垂直堆叠后的数组:\\n\", vstack_array)\n",
    "\n",
    "# 水平堆叠数组\n",
    "hstack_array = np.hstack((array_1d, array_1d))\n",
    "print(\"水平堆叠后的数组:\", hstack_array)\n",
    "\n",
    "# 数组的连接\n",
    "concatenate_array = np.concatenate((array_1d, array_1d)) #(可调节axis）\n",
    "print(\"连接后的数组:\", concatenate_array)\n",
    "\n",
    "# 数组的展平\n",
    "flattened_array = array_2d.flatten()\n",
    "print(\"展平后的数组:\", flattened_array)"
   ]
  }
 ],
 "metadata": {
  "kernelspec": {
   "display_name": "Python 3",
   "language": "python",
   "name": "python3"
  },
  "language_info": {
   "codemirror_mode": {
    "name": "ipython",
    "version": 3
   },
   "file_extension": ".py",
   "mimetype": "text/x-python",
   "name": "python",
   "nbconvert_exporter": "python",
   "pygments_lexer": "ipython3",
   "version": "3.10.9"
  }
 },
 "nbformat": 4,
 "nbformat_minor": 2
}
